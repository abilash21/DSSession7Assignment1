{
 "cells": [
  {
   "cell_type": "markdown",
   "metadata": {},
   "source": [
    "A test is conducted which is consisting of 20 MCQs (multiple choices questions) with\n",
    "every MCQ having its four options out of which only one is correct. Determine the\n",
    "probability that a person undertaking that test has answered exactly 5 questions wrong."
   ]
  },
  {
   "cell_type": "code",
   "execution_count": 2,
   "metadata": {},
   "outputs": [
    {
     "name": "stdout",
     "output_type": "stream",
     "text": [
      "Total Number of Questions = 20\n",
      "Total Incorrect Answers = 5\n",
      "Probability of 5 Incorrect answers = 5/20 = 1/4 =  0.25\n"
     ]
    }
   ],
   "source": [
    "# Total Number of Questions = 20\n",
    "# Total Incorrect Answers = 5\n",
    "# Probability of 5 Incorrect answeres = 5/20 = 1/4\n",
    "\n",
    "print(\"Total Number of Questions = 20\")\n",
    "print(\"Total Incorrect Answers = 5\")\n",
    "print(\"Probability of 5 Incorrect answers = 5/20 = 1/4 = \" , 5/20 )"
   ]
  },
  {
   "cell_type": "code",
   "execution_count": null,
   "metadata": {
    "collapsed": true
   },
   "outputs": [],
   "source": []
  }
 ],
 "metadata": {
  "kernelspec": {
   "display_name": "Python 3",
   "language": "python",
   "name": "python3"
  },
  "language_info": {
   "codemirror_mode": {
    "name": "ipython",
    "version": 3
   },
   "file_extension": ".py",
   "mimetype": "text/x-python",
   "name": "python",
   "nbconvert_exporter": "python",
   "pygments_lexer": "ipython3",
   "version": "3.6.3"
  }
 },
 "nbformat": 4,
 "nbformat_minor": 2
}

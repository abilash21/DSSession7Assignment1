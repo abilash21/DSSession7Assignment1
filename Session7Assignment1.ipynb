{
 "cells": [
  {
   "cell_type": "markdown",
   "metadata": {},
   "source": [
    "A test is conducted which is consisting of 20 MCQs (multiple choices questions) with\n",
    "every MCQ having its four options out of which only one is correct. Determine the\n",
    "probability that a person undertaking that test has answered exactly 5 questions wrong."
   ]
  },
  {
   "cell_type": "code",
   "execution_count": 16,
   "metadata": {},
   "outputs": [
    {
     "name": "stdout",
     "output_type": "stream",
     "text": [
      "Total Number of Questions n = 20\n",
      "Total Correct Answers n-(n-k) = k = 15 \n",
      "Total Incorrect Answers  n-k = 5\n",
      "Probability of answering one question correctly s = 1/4\n",
      "Probability of answering one question incorrectly (3 answers are incorrect of the 4 choice) = 3/4 or (1-S = 1-1/4 = 3/4)\n",
      "\n",
      "\n",
      "Bionominal Distribution Formula = C(n,k)s**k(1−s)**(n−k)\n",
      "\n",
      "\n",
      "C(n, k) to be represented as n!/(k!(n-k)!)\n",
      "C(n,k) = C(20,15)\n",
      "\n",
      "\n",
      "Where n! = n(n-1)(n-2)...(n-k+1)\n",
      "Factorial value for n! =  1860480\n",
      "\n",
      "\n",
      "And Where (k!(n-k)!) = (n-k)(n-k-1)(n-k-2)...(2)(1)\n",
      "Factorial value for (k!(n-k)!)=  120\n",
      "\n",
      "\n",
      "C(n, k) or  n!/(k!(n-k)!) Value =  15504.0\n",
      "\n",
      "\n",
      "The Approximate Proability of a Person answering 5 question Wrong is =  3.4264958230778575e-06\n"
     ]
    }
   ],
   "source": [
    "from functools import reduce\n",
    "# Total Number of Questions n = 20\n",
    "# Each Question has 4 choice where 1 value is correct\n",
    "# Total Incorrect Answers f = 5\n",
    "# Total Correct Answers n-f =k = 15 \n",
    "# Probability of answering one question correctly S = 1/4\n",
    "# Probability of answering one question incorrectly (3 answers are incorrect of the 4 choice) = 3/4 or (1-S = 1-1/4 = 3/4)\n",
    "# Bionominal Distribution Formula = C(n,k)s**k(1−s)**(n−k)\n",
    "# C(20,15)*(1/4)**15(3/4)**5\n",
    "n=20\n",
    "print(\"Total Number of Questions n = 20\")\n",
    "k=15\n",
    "print(\"Total Correct Answers n-(n-k) = k = 15 \")\n",
    "print(\"Total Incorrect Answers  n-k = 5\")\n",
    "s = 1/4\n",
    "print(\"Probability of answering one question correctly s = 1/4\")\n",
    "print(\"Probability of answering one question incorrectly (3 answers are incorrect of the 4 choice) = 3/4 or (1-S = 1-1/4 = 3/4)\")\n",
    "print(\"\\n\")\n",
    "print(\"Bionominal Distribution Formula = C(n,k)s**k(1−s)**(n−k)\")\n",
    "print(\"\\n\")\n",
    "print(\"C(n, k) to be represented as n!/(k!(n-k)!)\")\n",
    "print(\"C(n,k) = C(20,15)\")\n",
    "print(\"\\n\")\n",
    "print(\"Where n! = n(n-1)(n-2)...(n-k+1)\")\n",
    "nFactoriallist = [i for i in range(n,(n-5),-1)]\n",
    "nFactorial = reduce(lambda x, y: x*y, nFactoriallist) #Getting Factorial value for n!\n",
    "print(\"Factorial value for n! = \", nFactorial)\n",
    "print(\"\\n\")\n",
    "print(\"And Where (k!(n-k)!) = (n-k)(n-k-1)(n-k-2)...(2)(1)\")\n",
    "kFactoriallist = [ i for i in range((n-k),0,-1)]\n",
    "kFactorial = reduce(lambda x, y: x*y, kFactoriallist) #Getting Factorial value for (k!(n-k)!) \n",
    "print(\"Factorial value for (k!(n-k)!)= \",kFactorial) \n",
    "print(\"\\n\")\n",
    "print(\"C(n, k) or  n!/(k!(n-k)!) Value = \", nFactorial/kFactorial )\n",
    "print(\"\\n\")\n",
    "probability = nFactorial/kFactorial *(s**k)*(1-s)**(n-k)\n",
    "print(\"The Approximate Proability of a Person answering 5 question Wrong is = \", probability)"
   ]
  },
  {
   "cell_type": "code",
   "execution_count": null,
   "metadata": {
    "collapsed": true
   },
   "outputs": [],
   "source": []
  }
 ],
 "metadata": {
  "kernelspec": {
   "display_name": "Python 3",
   "language": "python",
   "name": "python3"
  },
  "language_info": {
   "codemirror_mode": {
    "name": "ipython",
    "version": 3
   },
   "file_extension": ".py",
   "mimetype": "text/x-python",
   "name": "python",
   "nbconvert_exporter": "python",
   "pygments_lexer": "ipython3",
   "version": "3.6.3"
  }
 },
 "nbformat": 4,
 "nbformat_minor": 2
}
